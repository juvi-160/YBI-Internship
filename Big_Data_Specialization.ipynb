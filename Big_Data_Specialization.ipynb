{
  "nbformat": 4,
  "nbformat_minor": 0,
  "metadata": {
    "colab": {
      "provenance": [],
      "authorship_tag": "ABX9TyNLAHjNXRieqO3hCKQx4Zn3",
      "include_colab_link": true
    },
    "kernelspec": {
      "name": "python3",
      "display_name": "Python 3"
    },
    "language_info": {
      "name": "python"
    }
  },
  "cells": [
    {
      "cell_type": "markdown",
      "metadata": {
        "id": "view-in-github",
        "colab_type": "text"
      },
      "source": [
        "<a href=\"https://colab.research.google.com/github/juvi-160/YBI-Internship/blob/main/Big_Data_Specialization.ipynb\" target=\"_parent\"><img src=\"https://colab.research.google.com/assets/colab-badge.svg\" alt=\"Open In Colab\"/></a>"
      ]
    },
    {
      "cell_type": "code",
      "source": [
        "!pip install pyspark"
      ],
      "metadata": {
        "colab": {
          "base_uri": "https://localhost:8080/"
        },
        "id": "u-ERXkYI1gpn",
        "outputId": "0834d040-fefa-47fd-bdc8-f841326cf7d6"
      },
      "execution_count": null,
      "outputs": [
        {
          "output_type": "stream",
          "name": "stdout",
          "text": [
            "Collecting pyspark\n",
            "  Downloading pyspark-3.5.1.tar.gz (317.0 MB)\n",
            "\u001b[2K     \u001b[90m━━━━━━━━━━━━━━━━━━━━━━━━━━━━━━━━━━━━━━━━\u001b[0m \u001b[32m317.0/317.0 MB\u001b[0m \u001b[31m2.0 MB/s\u001b[0m eta \u001b[36m0:00:00\u001b[0m\n",
            "\u001b[?25h  Preparing metadata (setup.py) ... \u001b[?25l\u001b[?25hdone\n",
            "Requirement already satisfied: py4j==0.10.9.7 in /usr/local/lib/python3.10/dist-packages (from pyspark) (0.10.9.7)\n",
            "Building wheels for collected packages: pyspark\n",
            "  Building wheel for pyspark (setup.py) ... \u001b[?25l\u001b[?25hdone\n",
            "  Created wheel for pyspark: filename=pyspark-3.5.1-py2.py3-none-any.whl size=317488491 sha256=b7410a665884274e792604efe1a7dc23cebb75b412bb855d53a2cf540f845ae7\n",
            "  Stored in directory: /root/.cache/pip/wheels/80/1d/60/2c256ed38dddce2fdd93be545214a63e02fbd8d74fb0b7f3a6\n",
            "Successfully built pyspark\n",
            "Installing collected packages: pyspark\n",
            "Successfully installed pyspark-3.5.1\n"
          ]
        }
      ]
    },
    {
      "cell_type": "markdown",
      "source": [
        "PySpark MLib"
      ],
      "metadata": {
        "id": "xobW2Ssg_olE"
      }
    },
    {
      "cell_type": "code",
      "execution_count": null,
      "metadata": {
        "id": "mWBxZ-fBDUwd"
      },
      "outputs": [],
      "source": [
        "import pyspark"
      ]
    },
    {
      "cell_type": "code",
      "source": [
        "from pyspark.sql import SparkSession"
      ],
      "metadata": {
        "id": "sAs-ncC5103W"
      },
      "execution_count": null,
      "outputs": []
    },
    {
      "cell_type": "code",
      "source": [
        "spark = SparkSession.builder.getOrCreate()"
      ],
      "metadata": {
        "id": "ykA3CI3P14nq"
      },
      "execution_count": null,
      "outputs": []
    },
    {
      "cell_type": "code",
      "source": [
        "spark"
      ],
      "metadata": {
        "colab": {
          "base_uri": "https://localhost:8080/",
          "height": 219
        },
        "id": "5VTndtEM17Nb",
        "outputId": "48411afe-bf0d-4fe6-aefe-37f889d09494"
      },
      "execution_count": null,
      "outputs": [
        {
          "output_type": "execute_result",
          "data": {
            "text/plain": [
              "<pyspark.sql.session.SparkSession at 0x7f899d2caaa0>"
            ],
            "text/html": [
              "\n",
              "            <div>\n",
              "                <p><b>SparkSession - in-memory</b></p>\n",
              "                \n",
              "        <div>\n",
              "            <p><b>SparkContext</b></p>\n",
              "\n",
              "            <p><a href=\"http://66e6f3b45c37:4040\">Spark UI</a></p>\n",
              "\n",
              "            <dl>\n",
              "              <dt>Version</dt>\n",
              "                <dd><code>v3.5.1</code></dd>\n",
              "              <dt>Master</dt>\n",
              "                <dd><code>local[*]</code></dd>\n",
              "              <dt>AppName</dt>\n",
              "                <dd><code>pyspark-shell</code></dd>\n",
              "            </dl>\n",
              "        </div>\n",
              "        \n",
              "            </div>\n",
              "        "
            ]
          },
          "metadata": {},
          "execution_count": 55
        }
      ]
    },
    {
      "cell_type": "code",
      "source": [
        "#import Data from github\n",
        "import pandas as pd\n",
        "import numpy as np\n",
        "from sklearn.datasets import load_iris\n",
        "df = load_iris(as_frame = True)\n",
        "df = df.frame\n",
        "#df = pd.read_csv('https://github.com/YBI-Foundation/Dataset/raw/main/IRIS.csv')\n",
        "df = spark.createDataFrame(df)"
      ],
      "metadata": {
        "id": "GQfx6Bhm174y"
      },
      "execution_count": null,
      "outputs": []
    },
    {
      "cell_type": "code",
      "source": [
        "df.show()"
      ],
      "metadata": {
        "colab": {
          "base_uri": "https://localhost:8080/"
        },
        "id": "a4_p3O3j1_Yw",
        "outputId": "46fe7e61-3fd5-4e2d-f366-a445a0162082"
      },
      "execution_count": null,
      "outputs": [
        {
          "output_type": "stream",
          "name": "stdout",
          "text": [
            "+-----------------+----------------+-----------------+----------------+------+\n",
            "|sepal length (cm)|sepal width (cm)|petal length (cm)|petal width (cm)|target|\n",
            "+-----------------+----------------+-----------------+----------------+------+\n",
            "|              5.1|             3.5|              1.4|             0.2|     0|\n",
            "|              4.9|             3.0|              1.4|             0.2|     0|\n",
            "|              4.7|             3.2|              1.3|             0.2|     0|\n",
            "|              4.6|             3.1|              1.5|             0.2|     0|\n",
            "|              5.0|             3.6|              1.4|             0.2|     0|\n",
            "|              5.4|             3.9|              1.7|             0.4|     0|\n",
            "|              4.6|             3.4|              1.4|             0.3|     0|\n",
            "|              5.0|             3.4|              1.5|             0.2|     0|\n",
            "|              4.4|             2.9|              1.4|             0.2|     0|\n",
            "|              4.9|             3.1|              1.5|             0.1|     0|\n",
            "|              5.4|             3.7|              1.5|             0.2|     0|\n",
            "|              4.8|             3.4|              1.6|             0.2|     0|\n",
            "|              4.8|             3.0|              1.4|             0.1|     0|\n",
            "|              4.3|             3.0|              1.1|             0.1|     0|\n",
            "|              5.8|             4.0|              1.2|             0.2|     0|\n",
            "|              5.7|             4.4|              1.5|             0.4|     0|\n",
            "|              5.4|             3.9|              1.3|             0.4|     0|\n",
            "|              5.1|             3.5|              1.4|             0.3|     0|\n",
            "|              5.7|             3.8|              1.7|             0.3|     0|\n",
            "|              5.1|             3.8|              1.5|             0.3|     0|\n",
            "+-----------------+----------------+-----------------+----------------+------+\n",
            "only showing top 20 rows\n",
            "\n"
          ]
        }
      ]
    },
    {
      "cell_type": "code",
      "source": [
        "df.printSchema()"
      ],
      "metadata": {
        "colab": {
          "base_uri": "https://localhost:8080/"
        },
        "id": "TNm_IE1R2D7N",
        "outputId": "491a49c5-0b68-4758-c48b-387aa407192f"
      },
      "execution_count": null,
      "outputs": [
        {
          "output_type": "stream",
          "name": "stdout",
          "text": [
            "root\n",
            " |-- sepal length (cm): double (nullable = true)\n",
            " |-- sepal width (cm): double (nullable = true)\n",
            " |-- petal length (cm): double (nullable = true)\n",
            " |-- petal width (cm): double (nullable = true)\n",
            " |-- target: long (nullable = true)\n",
            "\n"
          ]
        }
      ]
    },
    {
      "cell_type": "code",
      "source": [
        "df.columns"
      ],
      "metadata": {
        "colab": {
          "base_uri": "https://localhost:8080/"
        },
        "id": "812kxYQD2GTT",
        "outputId": "fc4d0f75-5a30-4ba9-92dc-f4ae771941e4"
      },
      "execution_count": null,
      "outputs": [
        {
          "output_type": "execute_result",
          "data": {
            "text/plain": [
              "['sepal length (cm)',\n",
              " 'sepal width (cm)',\n",
              " 'petal length (cm)',\n",
              " 'petal width (cm)',\n",
              " 'target']"
            ]
          },
          "metadata": {},
          "execution_count": 59
        }
      ]
    },
    {
      "cell_type": "markdown",
      "source": [
        "Vector assembler"
      ],
      "metadata": {
        "id": "fXsSMPXA_tUs"
      }
    },
    {
      "cell_type": "code",
      "source": [
        "from pyspark.ml.feature import VectorAssembler"
      ],
      "metadata": {
        "id": "wu5rNM6-2JmH"
      },
      "execution_count": null,
      "outputs": []
    },
    {
      "cell_type": "code",
      "source": [
        "featureassembler = VectorAssembler(inputCols = ['sepal length (cm)',\n",
        " 'sepal width (cm)',\n",
        " 'petal length (cm)',\n",
        " 'petal width (cm)'], outputCol = 'Features')"
      ],
      "metadata": {
        "id": "Y3px4_8A2Lw7"
      },
      "execution_count": null,
      "outputs": []
    },
    {
      "cell_type": "code",
      "source": [
        "output = featureassembler.transform(df)"
      ],
      "metadata": {
        "id": "c4vd_y6s2byo"
      },
      "execution_count": null,
      "outputs": []
    },
    {
      "cell_type": "code",
      "source": [
        "output.show()"
      ],
      "metadata": {
        "colab": {
          "base_uri": "https://localhost:8080/"
        },
        "id": "JGJRiXax3Dgj",
        "outputId": "10556eee-69cb-409f-ce1e-c66080d9b0bf"
      },
      "execution_count": null,
      "outputs": [
        {
          "output_type": "stream",
          "name": "stdout",
          "text": [
            "+-----------------+----------------+-----------------+----------------+------+-----------------+\n",
            "|sepal length (cm)|sepal width (cm)|petal length (cm)|petal width (cm)|target|         Features|\n",
            "+-----------------+----------------+-----------------+----------------+------+-----------------+\n",
            "|              5.1|             3.5|              1.4|             0.2|     0|[5.1,3.5,1.4,0.2]|\n",
            "|              4.9|             3.0|              1.4|             0.2|     0|[4.9,3.0,1.4,0.2]|\n",
            "|              4.7|             3.2|              1.3|             0.2|     0|[4.7,3.2,1.3,0.2]|\n",
            "|              4.6|             3.1|              1.5|             0.2|     0|[4.6,3.1,1.5,0.2]|\n",
            "|              5.0|             3.6|              1.4|             0.2|     0|[5.0,3.6,1.4,0.2]|\n",
            "|              5.4|             3.9|              1.7|             0.4|     0|[5.4,3.9,1.7,0.4]|\n",
            "|              4.6|             3.4|              1.4|             0.3|     0|[4.6,3.4,1.4,0.3]|\n",
            "|              5.0|             3.4|              1.5|             0.2|     0|[5.0,3.4,1.5,0.2]|\n",
            "|              4.4|             2.9|              1.4|             0.2|     0|[4.4,2.9,1.4,0.2]|\n",
            "|              4.9|             3.1|              1.5|             0.1|     0|[4.9,3.1,1.5,0.1]|\n",
            "|              5.4|             3.7|              1.5|             0.2|     0|[5.4,3.7,1.5,0.2]|\n",
            "|              4.8|             3.4|              1.6|             0.2|     0|[4.8,3.4,1.6,0.2]|\n",
            "|              4.8|             3.0|              1.4|             0.1|     0|[4.8,3.0,1.4,0.1]|\n",
            "|              4.3|             3.0|              1.1|             0.1|     0|[4.3,3.0,1.1,0.1]|\n",
            "|              5.8|             4.0|              1.2|             0.2|     0|[5.8,4.0,1.2,0.2]|\n",
            "|              5.7|             4.4|              1.5|             0.4|     0|[5.7,4.4,1.5,0.4]|\n",
            "|              5.4|             3.9|              1.3|             0.4|     0|[5.4,3.9,1.3,0.4]|\n",
            "|              5.1|             3.5|              1.4|             0.3|     0|[5.1,3.5,1.4,0.3]|\n",
            "|              5.7|             3.8|              1.7|             0.3|     0|[5.7,3.8,1.7,0.3]|\n",
            "|              5.1|             3.8|              1.5|             0.3|     0|[5.1,3.8,1.5,0.3]|\n",
            "+-----------------+----------------+-----------------+----------------+------+-----------------+\n",
            "only showing top 20 rows\n",
            "\n"
          ]
        }
      ]
    },
    {
      "cell_type": "markdown",
      "source": [
        "Data Model for Features\n"
      ],
      "metadata": {
        "id": "soL81zXF3Oul"
      }
    },
    {
      "cell_type": "code",
      "source": [
        "modeldata = output.select('Features','target')"
      ],
      "metadata": {
        "id": "tp4k6qWx3NSg"
      },
      "execution_count": null,
      "outputs": []
    },
    {
      "cell_type": "markdown",
      "source": [
        "splitting we have to use random split method"
      ],
      "metadata": {
        "id": "gjjW1dS25cEB"
      }
    },
    {
      "cell_type": "code",
      "source": [
        "train_data,test_data = modeldata.randomSplit([0.8,0.2])"
      ],
      "metadata": {
        "id": "hZn8AL4Q5baH"
      },
      "execution_count": null,
      "outputs": []
    },
    {
      "cell_type": "code",
      "source": [
        "from pyspark.ml.classification import NaiveBayes"
      ],
      "metadata": {
        "id": "YmnOsQH13a9V"
      },
      "execution_count": null,
      "outputs": []
    },
    {
      "cell_type": "code",
      "source": [
        "nb = NaiveBayes(featuresCol = 'Features', labelCol = 'target')"
      ],
      "metadata": {
        "id": "MDymdukr567f"
      },
      "execution_count": null,
      "outputs": []
    },
    {
      "cell_type": "code",
      "source": [
        "nb = nb.fit(train_data)"
      ],
      "metadata": {
        "id": "qdmiPWGa6Hjh"
      },
      "execution_count": null,
      "outputs": []
    },
    {
      "cell_type": "code",
      "source": [
        "y_pred = nb.transform(test_data)"
      ],
      "metadata": {
        "id": "QyU1Il336Wmn"
      },
      "execution_count": null,
      "outputs": []
    },
    {
      "cell_type": "markdown",
      "source": [
        "Accuracy to learn this we have to learn GroupBy function"
      ],
      "metadata": {
        "id": "9sFYDbst6p87"
      }
    },
    {
      "cell_type": "code",
      "source": [
        "y_pred.groupBy('target','prediction').count().show()\n"
      ],
      "metadata": {
        "colab": {
          "base_uri": "https://localhost:8080/"
        },
        "id": "dMe8EZKl6uhr",
        "outputId": "3e9a275c-4f3e-4b39-a260-5562e9ec110b"
      },
      "execution_count": null,
      "outputs": [
        {
          "output_type": "stream",
          "name": "stdout",
          "text": [
            "+------+----------+-----+\n",
            "|target|prediction|count|\n",
            "+------+----------+-----+\n",
            "|     0|       0.0|    7|\n",
            "|     1|       1.0|    6|\n",
            "|     1|       2.0|    4|\n",
            "|     2|       2.0|    7|\n",
            "+------+----------+-----+\n",
            "\n"
          ]
        }
      ]
    },
    {
      "cell_type": "code",
      "source": [
        "from sklearn.metrics import confusion_matrix\n",
        "pred = y_pred.select('prediction').collect()\n",
        "org = y_pred.select('target').collect()\n",
        "cm = print(confusion_matrix(org,pred))\n",
        "cm"
      ],
      "metadata": {
        "colab": {
          "base_uri": "https://localhost:8080/"
        },
        "id": "i3TUde_47VqU",
        "outputId": "77288a45-bc1c-40a5-9390-ae25679599e0"
      },
      "execution_count": null,
      "outputs": [
        {
          "output_type": "stream",
          "name": "stdout",
          "text": [
            "[[7 0 0]\n",
            " [0 6 4]\n",
            " [0 0 7]]\n"
          ]
        }
      ]
    },
    {
      "cell_type": "code",
      "source": [
        "from pyspark.ml.evaluation import MulticlassClassificationEvaluator"
      ],
      "metadata": {
        "id": "npYbAbVh8GYi"
      },
      "execution_count": null,
      "outputs": []
    },
    {
      "cell_type": "code",
      "source": [
        "evaluator = MulticlassClassificationEvaluator(labelCol = 'target', predictionCol = 'prediction')"
      ],
      "metadata": {
        "id": "qfyuRWr19b-e"
      },
      "execution_count": null,
      "outputs": []
    },
    {
      "cell_type": "code",
      "source": [
        "accuracy = evaluator.evaluate(y_pred)"
      ],
      "metadata": {
        "id": "1tDpKOKH-CBE"
      },
      "execution_count": null,
      "outputs": []
    },
    {
      "cell_type": "code",
      "source": [
        "accuracy"
      ],
      "metadata": {
        "colab": {
          "base_uri": "https://localhost:8080/"
        },
        "id": "rYAkq9RW-Nys",
        "outputId": "48f76337-564e-4986-cf7b-2aa095fb5268"
      },
      "execution_count": null,
      "outputs": [
        {
          "output_type": "execute_result",
          "data": {
            "text/plain": [
              "0.8310185185185186"
            ]
          },
          "metadata": {},
          "execution_count": 79
        }
      ]
    },
    {
      "cell_type": "markdown",
      "source": [
        "DataBrick is Cloud Services. Notebook style coding is much prefered nowadays."
      ],
      "metadata": {
        "id": "iygEk1jt-alS"
      }
    },
    {
      "cell_type": "code",
      "source": [],
      "metadata": {
        "id": "w5dqdiZh-Z9r"
      },
      "execution_count": null,
      "outputs": []
    },
    {
      "cell_type": "code",
      "source": [],
      "metadata": {
        "id": "a-IXlxF8_gMq"
      },
      "execution_count": null,
      "outputs": []
    }
  ]
}